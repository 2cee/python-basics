{
 "cells": [
  {
   "cell_type": "markdown",
   "id": "a90c1a6e-61ff-4662-b3e5-2cfda89b0e9e",
   "metadata": {},
   "source": [
    "### While loop"
   ]
  },
  {
   "cell_type": "code",
   "execution_count": 4,
   "id": "b45155d0-dc8e-4bc8-85c2-a4732ee21669",
   "metadata": {},
   "outputs": [
    {
     "name": "stdout",
     "output_type": "stream",
     "text": [
      "5\n",
      "4\n",
      "3\n",
      "2\n",
      "1\n",
      "finisto!\n"
     ]
    }
   ],
   "source": [
    "x = 5\n",
    "while (x > 0):\n",
    "    print(x)\n",
    "    x = x - 1\n",
    "print(\"finisto!\")"
   ]
  },
  {
   "cell_type": "markdown",
   "id": "acce4328-2007-43c9-82e6-0cec4ff98256",
   "metadata": {},
   "source": [
    "## Variables, expressions and statements\n",
    "\n",
    "1. Write a program to prompt the user for hours and rate per hour using input to compute gross pay. Use 35 hrs and a rate of 2.75 per hour to test the program **(the pay should be 96.25)**. You should use **input** to read a string and **float()** to convert the string to a number. Do not handle exceptions yet (don't worry about error-checking or bad user data)"
   ]
  },
  {
   "cell_type": "code",
   "execution_count": 17,
   "id": "94670ff3-758c-4063-a0ec-c65b23f7b3b7",
   "metadata": {},
   "outputs": [
    {
     "name": "stdin",
     "output_type": "stream",
     "text": [
      "Enter the number of hours: 35\n",
      "Enter the rate per hour: 2.75\n"
     ]
    },
    {
     "name": "stdout",
     "output_type": "stream",
     "text": [
      "Your gross pay is R 96.25\n"
     ]
    }
   ],
   "source": [
    "hours = input(\"Enter the number of hours:\")\n",
    "hrs = float(hours)\n",
    "rate_per_hour = input(\"Enter the rate per hour:\")\n",
    "rate = float(rate_per_hour)\n",
    "\n",
    "gross_pay = round(rate * hrs,2)                #round off to 2 d.p\n",
    "print(\"Your gross pay is R\",gross_pay)"
   ]
  },
  {
   "cell_type": "markdown",
   "id": "98e60423-6694-41b3-bd32-1f74f15ba5f2",
   "metadata": {},
   "source": [
    "2. The ground floor in US is 1 whereas in other contries its 0. Wite code to convert Europe floor to US floor. Get input from the user and convert Euro_Floor_Number to US_Floor_Number."
   ]
  },
  {
   "cell_type": "code",
   "execution_count": 16,
   "id": "d130b3a2-4fec-4227-ae3e-7391d174f842",
   "metadata": {},
   "outputs": [
    {
     "name": "stdin",
     "output_type": "stream",
     "text": [
      "Enter Euro floor number: 4\n"
     ]
    },
    {
     "name": "stdout",
     "output_type": "stream",
     "text": [
      "The equivalent US floor number is: 5\n"
     ]
    }
   ],
   "source": [
    "Euro_Floor = input(\"Enter Euro floor number:\")\n",
    "US_Floor = int(Euro_Floor) + 1\n",
    "print(\"The equivalent US floor number is:\",US_Floor)\n",
    "#except:\n",
    "# print(\"something went wrong, please review your input!\")"
   ]
  },
  {
   "cell_type": "code",
   "execution_count": 23,
   "id": "4f5b6ebf-a25a-43d8-9b62-06caa7ea6348",
   "metadata": {},
   "outputs": [
    {
     "name": "stdin",
     "output_type": "stream",
     "text": [
      "Enter a number: \"123\"\n"
     ]
    },
    {
     "name": "stdout",
     "output_type": "stream",
     "text": [
      "Not a number!\n"
     ]
    }
   ],
   "source": [
    "rawstr = input('Enter a number:')\n",
    "try:\n",
    "    num = int(rawstr)\n",
    "except:\n",
    "    num = -1\n",
    "if num > 0:\n",
    "    print( 'Nice work!')\n",
    "else:\n",
    "    print('Not a number!')\n",
    "\n"
   ]
  },
  {
   "cell_type": "markdown",
   "id": "7cd41b54-c972-4595-9d10-3a9f6441d87d",
   "metadata": {},
   "source": []
  }
 ],
 "metadata": {
  "kernelspec": {
   "display_name": "Python 3",
   "language": "python",
   "name": "python3"
  },
  "language_info": {
   "codemirror_mode": {
    "name": "ipython",
    "version": 3
   },
   "file_extension": ".py",
   "mimetype": "text/x-python",
   "name": "python",
   "nbconvert_exporter": "python",
   "pygments_lexer": "ipython3",
   "version": "3.8.8"
  }
 },
 "nbformat": 4,
 "nbformat_minor": 5
}
