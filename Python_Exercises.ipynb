{
 "cells": [
  {
   "cell_type": "markdown",
   "id": "aebe5d4e-3cc9-4486-a07b-03f70e7c9e0a",
   "metadata": {},
   "source": [
    "## Exercise 1"
   ]
  },
  {
   "cell_type": "markdown",
   "id": "d9dbec7a-ed00-4c27-a080-932cf896ff28",
   "metadata": {},
   "source": [
    "Write a program to prompt the user for hours and rate per hour using input to compute gross pay. Pay the hourly rate for the hours up to 40 and 1.5 times the hourly rate for all hours worked above 40 hours. Use 45 hours and a rate of 10.50 per hour to test the program (the pay should be 498.75). You should use **input** to read the string and **float** to convert the trsing to a number. Do not worry  about error-checking the user input - assume the user types numbers correctly."
   ]
  },
  {
   "cell_type": "code",
   "execution_count": 9,
   "id": "ff933e92-364e-439f-9949-79aab9c5df7c",
   "metadata": {},
   "outputs": [
    {
     "name": "stdin",
     "output_type": "stream",
     "text": [
      "Enter the number of hours worked this week: 45\n",
      "Enter your rate per hour: 10.50\n"
     ]
    },
    {
     "name": "stdout",
     "output_type": "stream",
     "text": [
      "Your gross pay is: 498.75\n"
     ]
    }
   ],
   "source": [
    "num_hrs = input('Enter the number of hours worked this week:')\n",
    "rate_per_hr = input('Enter your rate per hour:')\n",
    "\n",
    "hours = float(num_hrs)\n",
    "rate = float(rate_per_hr)\n",
    "\n",
    "if (hours <= 40):\n",
    "    gross_pay = hours * rate\n",
    "elif (hours > 40):\n",
    "    add_hrs = hours - 40\n",
    "    gross_pay = (40 * rate) + (add_hrs * 1.5 * rate)\n",
    "    \n",
    "print(\"Your gross pay is:\",gross_pay)\n",
    "    \n"
   ]
  },
  {
   "cell_type": "code",
   "execution_count": null,
   "id": "e9bbdd57-ac94-41a0-a8ad-6052fa0700ef",
   "metadata": {},
   "outputs": [],
   "source": []
  }
 ],
 "metadata": {
  "kernelspec": {
   "display_name": "Python 3",
   "language": "python",
   "name": "python3"
  },
  "language_info": {
   "codemirror_mode": {
    "name": "ipython",
    "version": 3
   },
   "file_extension": ".py",
   "mimetype": "text/x-python",
   "name": "python",
   "nbconvert_exporter": "python",
   "pygments_lexer": "ipython3",
   "version": "3.8.8"
  }
 },
 "nbformat": 4,
 "nbformat_minor": 5
}
